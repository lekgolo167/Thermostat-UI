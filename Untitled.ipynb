{
 "cells": [
  {
   "cell_type": "markdown",
   "id": "cbf605c0",
   "metadata": {},
   "source": [
    "$\\frac{1}{2}$"
   ]
  },
  {
   "cell_type": "markdown",
   "id": "16e5a5bb",
   "metadata": {},
   "source": [
    "$\n",
    "H(t)=\\begin{cases} 20 & \\text{if } x_1(t) \\lt 68 \\\\ 0 & \\text{if } x_1(t) \\ge 68\\end{cases}\n",
    "$"
   ]
  },
  {
   "cell_type": "code",
   "execution_count": null,
   "id": "11bd0d0b",
   "metadata": {},
   "outputs": [],
   "source": []
  }
 ],
 "metadata": {
  "kernelspec": {
   "display_name": "Python 3 (ipykernel)",
   "language": "python",
   "name": "python3"
  },
  "language_info": {
   "codemirror_mode": {
    "name": "ipython",
    "version": 3
   },
   "file_extension": ".py",
   "mimetype": "text/x-python",
   "name": "python",
   "nbconvert_exporter": "python",
   "pygments_lexer": "ipython3",
   "version": "3.8.5"
  }
 },
 "nbformat": 4,
 "nbformat_minor": 5
}
